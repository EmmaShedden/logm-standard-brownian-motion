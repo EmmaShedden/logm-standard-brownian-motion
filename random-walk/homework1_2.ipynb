{
 "cells": [
  {
   "cell_type": "markdown",
   "id": "0edf88db",
   "metadata": {},
   "source": [
    "Brownian motion:$B_{t_2}-B_{t_1}$ (distance between time $t_1$ and time $t_2$) should be a random quantity that increases as $t_2-t_1$ does.\n",
    "Choosing the right random quantity is what defines a Brownian motion. We define $B_{t_2}-B_{t_1}=N(0,t_2-t_1)$ where $N(0,t_2-t_1)$ is a normal distribution with variance $t_2-t_1$"
   ]
  },
  {
   "cell_type": "code",
   "execution_count": 1,
   "id": "e24d9d86",
   "metadata": {},
   "outputs": [],
   "source": [
    "import numpy as np"
   ]
  },
  {
   "cell_type": "code",
   "execution_count": 2,
   "id": "6f95139c",
   "metadata": {},
   "outputs": [
    {
     "name": "stdout",
     "output_type": "stream",
     "text": [
      "B0 is 0.0\n",
      "B0.1 is -0.07087261968612794\n",
      "B0.2 is 0.02853509056266712\n",
      "B0.3 is -0.0005902134542088953\n",
      "B0.4 is -0.011107781669382612\n",
      "B0.5 is 0.048012035735814015\n",
      "B0.6 is 0.11956494159247757\n",
      "B0.7 is 0.12833345507786537\n",
      "B0.8 is 0.09691187166430743\n",
      "B0.9 is 0.06722402528060525\n",
      "B1 is 0.10813124479915327\n"
     ]
    }
   ],
   "source": [
    "Bt = np.array([0])\n",
    "for i in range(10):\n",
    "    Bt = np.append(Bt,Bt[i]+np.random.normal(0,0.1))\n",
    "for i in range(11):\n",
    "    if i == 0:\n",
    "         print(f\"B0 is {Bt[0]}\")\n",
    "    elif i == 10:\n",
    "         print(f\"B1 is {Bt[10]}\")\n",
    "    else:\n",
    "         print(f\"B0.{i} is {Bt[i]}\")"
   ]
  },
  {
   "cell_type": "markdown",
   "id": "873882f4",
   "metadata": {},
   "source": [
    "Calculates Brownian motion at any set of times"
   ]
  },
  {
   "cell_type": "code",
   "execution_count": 5,
   "id": "2e35c71b",
   "metadata": {},
   "outputs": [
    {
     "name": "stdout",
     "output_type": "stream",
     "text": [
      "Please enter the desired timeset(e.g. 0,0.1,0.2)0,0.3,0.4,0.6,2,3.5\n"
     ]
    }
   ],
   "source": [
    "enter = input(\"Please enter the desired timeset(e.g. 0,0.1,0.2)\")\n"
   ]
  },
  {
   "cell_type": "code",
   "execution_count": 8,
   "id": "e8eecebf",
   "metadata": {},
   "outputs": [
    {
     "name": "stdout",
     "output_type": "stream",
     "text": [
      "[0.0, 0.3, 0.4, 0.6, 2.0, 3.5]\n"
     ]
    }
   ],
   "source": [
    "split = enter.split(\",\")\n",
    "timeset = list(map(float, split))\n",
    "print(timeset)"
   ]
  },
  {
   "cell_type": "code",
   "execution_count": 9,
   "id": "6b997b4d",
   "metadata": {},
   "outputs": [],
   "source": [
    "import numpy as np"
   ]
  },
  {
   "cell_type": "code",
   "execution_count": 10,
   "id": "939d2ca6",
   "metadata": {},
   "outputs": [
    {
     "name": "stdout",
     "output_type": "stream",
     "text": [
      "B0.0 is 0.0\n",
      "B0.3 is 0.13647823816586938\n",
      "B0.4 is 0.2640806264264716\n",
      "B0.6 is 0.4172773801521597\n",
      "B2.0 is 1.5919999345819587\n",
      "B3.5 is 0.12928653490686792\n"
     ]
    }
   ],
   "source": [
    "Bt = np.array([0])\n",
    "for i in range(len(timeset)-1):\n",
    "    Bt = np.append(Bt,Bt[i]+np.random.normal(0,timeset[i+1]-timeset[i]))\n",
    "for i in range(len(timeset)):\n",
    "    print(f\"B{timeset[i]} is {Bt[i]}\")"
   ]
  }
 ],
 "metadata": {
  "kernelspec": {
   "display_name": "Python 3 (ipykernel)",
   "language": "python",
   "name": "python3"
  },
  "language_info": {
   "codemirror_mode": {
    "name": "ipython",
    "version": 3
   },
   "file_extension": ".py",
   "mimetype": "text/x-python",
   "name": "python",
   "nbconvert_exporter": "python",
   "pygments_lexer": "ipython3",
   "version": "3.9.13"
  }
 },
 "nbformat": 4,
 "nbformat_minor": 5
}
